{
 "cells": [
  {
   "cell_type": "code",
   "execution_count": 1,
   "id": "8685a1e6-eb94-4217-bfd2-3af26c444186",
   "metadata": {},
   "outputs": [
    {
     "name": "stderr",
     "output_type": "stream",
     "text": [
      "/Users/jan/mambaforge/lib/python3.11/site-packages/tqdm/auto.py:21: TqdmWarning: IProgress not found. Please update jupyter and ipywidgets. See https://ipywidgets.readthedocs.io/en/stable/user_install.html\n",
      "  from .autonotebook import tqdm as notebook_tqdm\n"
     ]
    },
    {
     "data": {
      "text/plain": [
       "'/Users/jan/projects/pyiron_base/pyiron_base/__init__.py'"
      ]
     },
     "execution_count": 1,
     "metadata": {},
     "output_type": "execute_result"
    }
   ],
   "source": [
    "import pyiron_base\n",
    "pyiron_base.__file__"
   ]
  },
  {
   "cell_type": "code",
   "execution_count": 2,
   "id": "6d16191c-8d4d-439e-bfb2-f831f49716d0",
   "metadata": {},
   "outputs": [],
   "source": [
    "from pyiron_base import Project\n",
    "from pyiron_base.project.delayed import draw"
   ]
  },
  {
   "cell_type": "code",
   "execution_count": 3,
   "id": "c4efdcbc-50f7-4945-82eb-c9d7e485ed02",
   "metadata": {},
   "outputs": [],
   "source": [
    "pr = Project(\"test\")"
   ]
  },
  {
   "cell_type": "code",
   "execution_count": 4,
   "id": "126176cd-2e3a-4035-bcbe-32ecf1877ee0",
   "metadata": {},
   "outputs": [
    {
     "name": "stderr",
     "output_type": "stream",
     "text": [
      "0it [00:00, ?it/s]\n"
     ]
    }
   ],
   "source": [
    "pr.remove_jobs(recursive=True, silently=True)"
   ]
  },
  {
   "cell_type": "code",
   "execution_count": 5,
   "id": "ac14da10-bb0e-430a-bf4e-695b62b0e8ce",
   "metadata": {},
   "outputs": [],
   "source": [
    "def add_x_and_y(x, y):\n",
    "    z = x + y\n",
    "    return z"
   ]
  },
  {
   "cell_type": "code",
   "execution_count": 6,
   "id": "e1b4f3c3-93cc-4434-a288-bb79c38728e1",
   "metadata": {},
   "outputs": [],
   "source": [
    "def add_x_and_y_and_z(x, y, z):\n",
    "    w = x + y + z\n",
    "    return w"
   ]
  },
  {
   "cell_type": "code",
   "execution_count": 7,
   "id": "12160e4d-18ad-4f36-9558-5c027362fb6f",
   "metadata": {},
   "outputs": [
    {
     "name": "stderr",
     "output_type": "stream",
     "text": [
      "0it [00:00, ?it/s]\n"
     ]
    }
   ],
   "source": [
    "pr.remove_jobs(recursive=True, silently=True)"
   ]
  },
  {
   "cell_type": "code",
   "execution_count": 8,
   "id": "f9b032b9-8880-42aa-a63a-841b7e500e7f",
   "metadata": {},
   "outputs": [],
   "source": [
    "z = pr.wrap_python_function(python_function=add_x_and_y, x=1, y=2, delayed=True)"
   ]
  },
  {
   "cell_type": "code",
   "execution_count": 9,
   "id": "df1d4f9f-78bf-4acf-a4fa-264a60004f07",
   "metadata": {},
   "outputs": [
    {
     "name": "stdout",
     "output_type": "stream",
     "text": [
      "The job add_x_and_y98e3f06a7711da5c66cb8502e98d7815 was saved and received the ID: 67\n",
      "The job add_x_and_y_and_ze74f09c324b7665409df08d33597ba73 was saved and received the ID: 68\n"
     ]
    },
    {
     "data": {
      "text/plain": [
       "6"
      ]
     },
     "execution_count": 9,
     "metadata": {},
     "output_type": "execute_result"
    }
   ],
   "source": [
    "w = pr.wrap_python_function(python_function=add_x_and_y_and_z, x=1, y=2, z=z, delayed=True)\n",
    "w.result()"
   ]
  },
  {
   "cell_type": "code",
   "execution_count": 10,
   "id": "79ec194d-a1d4-4cfe-ac85-17308b6a0898",
   "metadata": {},
   "outputs": [
    {
     "data": {
      "text/html": [
       "<div>\n",
       "<style scoped>\n",
       "    .dataframe tbody tr th:only-of-type {\n",
       "        vertical-align: middle;\n",
       "    }\n",
       "\n",
       "    .dataframe tbody tr th {\n",
       "        vertical-align: top;\n",
       "    }\n",
       "\n",
       "    .dataframe thead th {\n",
       "        text-align: right;\n",
       "    }\n",
       "</style>\n",
       "<table border=\"1\" class=\"dataframe\">\n",
       "  <thead>\n",
       "    <tr style=\"text-align: right;\">\n",
       "      <th></th>\n",
       "      <th>id</th>\n",
       "      <th>status</th>\n",
       "      <th>chemicalformula</th>\n",
       "      <th>job</th>\n",
       "      <th>subjob</th>\n",
       "      <th>projectpath</th>\n",
       "      <th>project</th>\n",
       "      <th>timestart</th>\n",
       "      <th>timestop</th>\n",
       "      <th>totalcputime</th>\n",
       "      <th>computer</th>\n",
       "      <th>hamilton</th>\n",
       "      <th>hamversion</th>\n",
       "      <th>parentid</th>\n",
       "      <th>masterid</th>\n",
       "    </tr>\n",
       "  </thead>\n",
       "  <tbody>\n",
       "    <tr>\n",
       "      <th>0</th>\n",
       "      <td>67</td>\n",
       "      <td>finished</td>\n",
       "      <td>None</td>\n",
       "      <td>add_x_and_y98e3f06a7711da5c66cb8502e98d7815</td>\n",
       "      <td>/add_x_and_y98e3f06a7711da5c66cb8502e98d7815</td>\n",
       "      <td>None</td>\n",
       "      <td>/Users/jan/notebooks/2024/2024-06-28-compare-workflows/test/</td>\n",
       "      <td>2024-07-02 20:07:23.712153</td>\n",
       "      <td>2024-07-02 20:07:23.829903</td>\n",
       "      <td>0.0</td>\n",
       "      <td>pyiron@MacBook-Pro.local#1</td>\n",
       "      <td>PythonFunctionContainerJob</td>\n",
       "      <td>0.4</td>\n",
       "      <td>None</td>\n",
       "      <td>None</td>\n",
       "    </tr>\n",
       "    <tr>\n",
       "      <th>1</th>\n",
       "      <td>68</td>\n",
       "      <td>finished</td>\n",
       "      <td>None</td>\n",
       "      <td>add_x_and_y_and_ze74f09c324b7665409df08d33597ba73</td>\n",
       "      <td>/add_x_and_y_and_ze74f09c324b7665409df08d33597ba73</td>\n",
       "      <td>None</td>\n",
       "      <td>/Users/jan/notebooks/2024/2024-06-28-compare-workflows/test/</td>\n",
       "      <td>2024-07-02 20:07:23.967067</td>\n",
       "      <td>2024-07-02 20:07:24.087735</td>\n",
       "      <td>0.0</td>\n",
       "      <td>pyiron@MacBook-Pro.local#1</td>\n",
       "      <td>PythonFunctionContainerJob</td>\n",
       "      <td>0.4</td>\n",
       "      <td>None</td>\n",
       "      <td>None</td>\n",
       "    </tr>\n",
       "  </tbody>\n",
       "</table>\n",
       "</div>"
      ],
      "text/plain": [
       "   id    status chemicalformula  \\\n",
       "0  67  finished            None   \n",
       "1  68  finished            None   \n",
       "\n",
       "                                                 job  \\\n",
       "0        add_x_and_y98e3f06a7711da5c66cb8502e98d7815   \n",
       "1  add_x_and_y_and_ze74f09c324b7665409df08d33597ba73   \n",
       "\n",
       "                                               subjob projectpath  \\\n",
       "0        /add_x_and_y98e3f06a7711da5c66cb8502e98d7815        None   \n",
       "1  /add_x_and_y_and_ze74f09c324b7665409df08d33597ba73        None   \n",
       "\n",
       "                                                        project  \\\n",
       "0  /Users/jan/notebooks/2024/2024-06-28-compare-workflows/test/   \n",
       "1  /Users/jan/notebooks/2024/2024-06-28-compare-workflows/test/   \n",
       "\n",
       "                   timestart                   timestop  totalcputime  \\\n",
       "0 2024-07-02 20:07:23.712153 2024-07-02 20:07:23.829903           0.0   \n",
       "1 2024-07-02 20:07:23.967067 2024-07-02 20:07:24.087735           0.0   \n",
       "\n",
       "                     computer                    hamilton hamversion parentid  \\\n",
       "0  pyiron@MacBook-Pro.local#1  PythonFunctionContainerJob        0.4     None   \n",
       "1  pyiron@MacBook-Pro.local#1  PythonFunctionContainerJob        0.4     None   \n",
       "\n",
       "  masterid  \n",
       "0     None  \n",
       "1     None  "
      ]
     },
     "execution_count": 10,
     "metadata": {},
     "output_type": "execute_result"
    }
   ],
   "source": [
    "pr.job_table()"
   ]
  },
  {
   "cell_type": "code",
   "execution_count": 11,
   "id": "ff3b7821-ea42-4e09-b672-690430c92a7d",
   "metadata": {},
   "outputs": [
    {
     "name": "stderr",
     "output_type": "stream",
     "text": [
      "2024-07-02 20:07:24,345 - pyiron_log - WARNING - The job add_x_and_y_and_ze74f09c324b7665409df08d33597ba73 is being loaded instead of running. To re-run use the argument 'delete_existing_job=True in create_job'\n"
     ]
    },
    {
     "data": {
      "text/plain": [
       "6"
      ]
     },
     "execution_count": 11,
     "metadata": {},
     "output_type": "execute_result"
    }
   ],
   "source": [
    "w = pr.wrap_python_function(python_function=add_x_and_y_and_z, x=1, y=2, z=z, delayed=True)\n",
    "w.result()"
   ]
  },
  {
   "cell_type": "code",
   "execution_count": 12,
   "id": "86184c6d-b77e-4f95-bb66-bbfecefe0b96",
   "metadata": {},
   "outputs": [
    {
     "data": {
      "text/plain": [
       "({'create_function_job_7581cb7b24b36694b34fb692a0b1a1f1': <pyiron_base.project.delayed.DelayedObject at 0x12b2a3410>,\n",
       "  'x_1d847da32ecaabf6731c38f798c3d4ce': 1,\n",
       "  'y_a9ec4f5f33f0d64e74ed5d9900bceac6': 2,\n",
       "  'create_function_job_181684719c069e73e9565da4fc458815': <pyiron_base.project.delayed.DelayedObject at 0x12b2b3e90>},\n",
       " [['create_function_job_7581cb7b24b36694b34fb692a0b1a1f1',\n",
       "   'x_1d847da32ecaabf6731c38f798c3d4ce'],\n",
       "  ['create_function_job_7581cb7b24b36694b34fb692a0b1a1f1',\n",
       "   'y_a9ec4f5f33f0d64e74ed5d9900bceac6'],\n",
       "  ['create_function_job_7581cb7b24b36694b34fb692a0b1a1f1',\n",
       "   'create_function_job_181684719c069e73e9565da4fc458815'],\n",
       "  ['create_function_job_181684719c069e73e9565da4fc458815',\n",
       "   'x_1d847da32ecaabf6731c38f798c3d4ce'],\n",
       "  ['create_function_job_181684719c069e73e9565da4fc458815',\n",
       "   'y_a9ec4f5f33f0d64e74ed5d9900bceac6']])"
      ]
     },
     "execution_count": 12,
     "metadata": {},
     "output_type": "execute_result"
    }
   ],
   "source": [
    "nodes_dict, edges_lst = w.get_graph()\n",
    "nodes_dict, edges_lst"
   ]
  },
  {
   "cell_type": "code",
   "execution_count": 13,
   "id": "f993259a-b32b-4752-9fa3-7f3bd84fd6b6",
   "metadata": {},
   "outputs": [
    {
     "data": {
      "image/svg+xml": [
       "<svg xmlns=\"http://www.w3.org/2000/svg\" xmlns:xlink=\"http://www.w3.org/1999/xlink\" width=\"752pt\" height=\"188pt\" viewBox=\"0.00 0.00 751.51 188.00\">\n",
       "<g id=\"graph0\" class=\"graph\" transform=\"scale(1 1) rotate(0) translate(4 184)\">\n",
       "<polygon fill=\"white\" stroke=\"none\" points=\"-4,4 -4,-184 747.51,-184 747.51,4 -4,4\"/>\n",
       "<!-- create_function_job_7581cb7b24b36694b34fb692a0b1a1f1 -->\n",
       "<g id=\"node1\" class=\"node\">\n",
       "<title>create_function_job_7581cb7b24b36694b34fb692a0b1a1f1</title>\n",
       "<ellipse fill=\"none\" stroke=\"black\" cx=\"371.74\" cy=\"-18\" rx=\"350.76\" ry=\"18\"/>\n",
       "<text text-anchor=\"middle\" x=\"371.74\" y=\"-12.95\" font-family=\"Times,serif\" font-size=\"14.00\">create_function_job=&lt;pyiron_base.project.delayed.DelayedObject object at 0x12b2a3410&gt;</text>\n",
       "</g>\n",
       "<!-- x_1d847da32ecaabf6731c38f798c3d4ce -->\n",
       "<g id=\"node2\" class=\"node\">\n",
       "<title>x_1d847da32ecaabf6731c38f798c3d4ce</title>\n",
       "<ellipse fill=\"none\" stroke=\"black\" cx=\"258.74\" cy=\"-162\" rx=\"27\" ry=\"18\"/>\n",
       "<text text-anchor=\"middle\" x=\"258.74\" y=\"-156.95\" font-family=\"Times,serif\" font-size=\"14.00\">x=1</text>\n",
       "</g>\n",
       "<!-- x_1d847da32ecaabf6731c38f798c3d4ce&#45;&gt;create_function_job_7581cb7b24b36694b34fb692a0b1a1f1 -->\n",
       "<g id=\"edge1\" class=\"edge\">\n",
       "<title>x_1d847da32ecaabf6731c38f798c3d4ce-&gt;create_function_job_7581cb7b24b36694b34fb692a0b1a1f1</title>\n",
       "<path fill=\"none\" stroke=\"black\" d=\"M231.35,-160.42C154.98,-157.89 -50.75,-144.36 11.74,-72 27.97,-53.2 68.19,-40.95 116.13,-33\"/>\n",
       "<polygon fill=\"black\" stroke=\"black\" points=\"116.64,-36.47 125.97,-31.46 115.55,-29.55 116.64,-36.47\"/>\n",
       "</g>\n",
       "<!-- create_function_job_181684719c069e73e9565da4fc458815 -->\n",
       "<g id=\"node3\" class=\"node\">\n",
       "<title>create_function_job_181684719c069e73e9565da4fc458815</title>\n",
       "<ellipse fill=\"none\" stroke=\"black\" cx=\"371.74\" cy=\"-90\" rx=\"350.76\" ry=\"18\"/>\n",
       "<text text-anchor=\"middle\" x=\"371.74\" y=\"-84.95\" font-family=\"Times,serif\" font-size=\"14.00\">create_function_job=&lt;pyiron_base.project.delayed.DelayedObject object at 0x12b2b3e90&gt;</text>\n",
       "</g>\n",
       "<!-- x_1d847da32ecaabf6731c38f798c3d4ce&#45;&gt;create_function_job_181684719c069e73e9565da4fc458815 -->\n",
       "<g id=\"edge2\" class=\"edge\">\n",
       "<title>x_1d847da32ecaabf6731c38f798c3d4ce-&gt;create_function_job_181684719c069e73e9565da4fc458815</title>\n",
       "<path fill=\"none\" stroke=\"black\" d=\"M278.16,-148.97C293.46,-139.49 315.25,-125.99 333.96,-114.4\"/>\n",
       "<polygon fill=\"black\" stroke=\"black\" points=\"335.74,-117.42 342.4,-109.17 332.06,-111.47 335.74,-117.42\"/>\n",
       "</g>\n",
       "<!-- create_function_job_181684719c069e73e9565da4fc458815&#45;&gt;create_function_job_7581cb7b24b36694b34fb692a0b1a1f1 -->\n",
       "<g id=\"edge5\" class=\"edge\">\n",
       "<title>create_function_job_181684719c069e73e9565da4fc458815-&gt;create_function_job_7581cb7b24b36694b34fb692a0b1a1f1</title>\n",
       "<path fill=\"none\" stroke=\"black\" d=\"M371.74,-71.7C371.74,-64.41 371.74,-55.73 371.74,-47.54\"/>\n",
       "<polygon fill=\"black\" stroke=\"black\" points=\"375.24,-47.62 371.74,-37.62 368.24,-47.62 375.24,-47.62\"/>\n",
       "</g>\n",
       "<!-- y_a9ec4f5f33f0d64e74ed5d9900bceac6 -->\n",
       "<g id=\"node4\" class=\"node\">\n",
       "<title>y_a9ec4f5f33f0d64e74ed5d9900bceac6</title>\n",
       "<ellipse fill=\"none\" stroke=\"black\" cx=\"483.74\" cy=\"-162\" rx=\"27\" ry=\"18\"/>\n",
       "<text text-anchor=\"middle\" x=\"483.74\" y=\"-156.95\" font-family=\"Times,serif\" font-size=\"14.00\">y=2</text>\n",
       "</g>\n",
       "<!-- y_a9ec4f5f33f0d64e74ed5d9900bceac6&#45;&gt;create_function_job_7581cb7b24b36694b34fb692a0b1a1f1 -->\n",
       "<g id=\"edge3\" class=\"edge\">\n",
       "<title>y_a9ec4f5f33f0d64e74ed5d9900bceac6-&gt;create_function_job_7581cb7b24b36694b34fb692a0b1a1f1</title>\n",
       "<path fill=\"none\" stroke=\"black\" d=\"M510.97,-160.45C587.42,-158.02 794.52,-144.71 731.74,-72 715.51,-53.2 675.29,-40.95 627.35,-33\"/>\n",
       "<polygon fill=\"black\" stroke=\"black\" points=\"627.93,-29.55 617.5,-31.46 626.84,-36.47 627.93,-29.55\"/>\n",
       "</g>\n",
       "<!-- y_a9ec4f5f33f0d64e74ed5d9900bceac6&#45;&gt;create_function_job_181684719c069e73e9565da4fc458815 -->\n",
       "<g id=\"edge4\" class=\"edge\">\n",
       "<title>y_a9ec4f5f33f0d64e74ed5d9900bceac6-&gt;create_function_job_181684719c069e73e9565da4fc458815</title>\n",
       "<path fill=\"none\" stroke=\"black\" d=\"M464.49,-148.97C449.32,-139.49 427.73,-125.99 409.19,-114.4\"/>\n",
       "<polygon fill=\"black\" stroke=\"black\" points=\"411.16,-111.51 400.83,-109.18 407.45,-117.45 411.16,-111.51\"/>\n",
       "</g>\n",
       "</g>\n",
       "</svg>"
      ],
      "text/plain": [
       "<IPython.core.display.SVG object>"
      ]
     },
     "metadata": {},
     "output_type": "display_data"
    }
   ],
   "source": [
    "draw(node_dict=nodes_dict, edge_lst=edges_lst)"
   ]
  },
  {
   "cell_type": "code",
   "execution_count": null,
   "id": "2f324e04-1f0f-42dd-8941-aa833d71c318",
   "metadata": {},
   "outputs": [],
   "source": []
  },
  {
   "cell_type": "code",
   "execution_count": null,
   "id": "db131531-81f0-4b3a-af5e-28e2a1c14f7e",
   "metadata": {},
   "outputs": [],
   "source": []
  },
  {
   "cell_type": "code",
   "execution_count": null,
   "id": "31cfaa2e-88fd-4570-850a-f7c91bc4d41e",
   "metadata": {},
   "outputs": [],
   "source": []
  }
 ],
 "metadata": {
  "kernelspec": {
   "display_name": "Python 3 (ipykernel)",
   "language": "python",
   "name": "python3"
  },
  "language_info": {
   "codemirror_mode": {
    "name": "ipython",
    "version": 3
   },
   "file_extension": ".py",
   "mimetype": "text/x-python",
   "name": "python",
   "nbconvert_exporter": "python",
   "pygments_lexer": "ipython3",
   "version": "3.11.8"
  }
 },
 "nbformat": 4,
 "nbformat_minor": 5
}
