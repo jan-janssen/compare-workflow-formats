{
 "cells": [
  {
   "cell_type": "code",
   "execution_count": 1,
   "id": "0871a69e-0b04-4e9b-90ad-d2eeef8ab512",
   "metadata": {},
   "outputs": [],
   "source": [
    "import os"
   ]
  },
  {
   "cell_type": "code",
   "execution_count": 2,
   "id": "8685a1e6-eb94-4217-bfd2-3af26c444186",
   "metadata": {},
   "outputs": [
    {
     "name": "stderr",
     "output_type": "stream",
     "text": [
      "/Users/jan/mambaforge/lib/python3.11/site-packages/tqdm/auto.py:21: TqdmWarning: IProgress not found. Please update jupyter and ipywidgets. See https://ipywidgets.readthedocs.io/en/stable/user_install.html\n",
      "  from .autonotebook import tqdm as notebook_tqdm\n"
     ]
    },
    {
     "data": {
      "text/plain": [
       "'/Users/jan/projects/pyiron_base/pyiron_base/__init__.py'"
      ]
     },
     "execution_count": 2,
     "metadata": {},
     "output_type": "execute_result"
    }
   ],
   "source": [
    "import pyiron_base\n",
    "pyiron_base.__file__"
   ]
  },
  {
   "cell_type": "code",
   "execution_count": 3,
   "id": "6d16191c-8d4d-439e-bfb2-f831f49716d0",
   "metadata": {},
   "outputs": [],
   "source": [
    "from pyiron_base import Project\n",
    "from pyiron_base.project.delayed import draw"
   ]
  },
  {
   "cell_type": "code",
   "execution_count": 4,
   "id": "c4efdcbc-50f7-4945-82eb-c9d7e485ed02",
   "metadata": {},
   "outputs": [],
   "source": [
    "pr = Project(\"test\")"
   ]
  },
  {
   "cell_type": "code",
   "execution_count": 5,
   "id": "126176cd-2e3a-4035-bcbe-32ecf1877ee0",
   "metadata": {},
   "outputs": [
    {
     "name": "stderr",
     "output_type": "stream",
     "text": [
      "100%|█████████████████████████████████████████████| 2/2 [00:00<00:00,  9.33it/s]\n"
     ]
    }
   ],
   "source": [
    "pr.remove_jobs(recursive=True, silently=True)"
   ]
  },
  {
   "cell_type": "code",
   "execution_count": 6,
   "id": "ac14da10-bb0e-430a-bf4e-695b62b0e8ce",
   "metadata": {},
   "outputs": [],
   "source": [
    "def write_input(working_directory, input_dict):\n",
    "    for k, v in input_dict.items():\n",
    "        with open(os.path.join(working_directory, k + \".txt\"), \"w\") as f:\n",
    "            f.writelines(str(v))"
   ]
  },
  {
   "cell_type": "code",
   "execution_count": 7,
   "id": "ac127414-301c-4f64-9ffa-91846a60a76e",
   "metadata": {},
   "outputs": [],
   "source": [
    "def collect_output(working_directory):\n",
    "    with open(os.path.join(working_directory, \"result.txt\"), \"r\") as f:\n",
    "        return {\"result\": int(f.readlines()[0])}"
   ]
  },
  {
   "cell_type": "code",
   "execution_count": 8,
   "id": "12160e4d-18ad-4f36-9558-5c027362fb6f",
   "metadata": {},
   "outputs": [
    {
     "name": "stderr",
     "output_type": "stream",
     "text": [
      "0it [00:00, ?it/s]\n"
     ]
    }
   ],
   "source": [
    "pr.remove_jobs(recursive=True, silently=True)"
   ]
  },
  {
   "cell_type": "code",
   "execution_count": 9,
   "id": "f9b032b9-8880-42aa-a63a-841b7e500e7f",
   "metadata": {},
   "outputs": [],
   "source": [
    "z = pr.wrap_executable(\n",
    "    job_name=\"job_xy\",\n",
    "    executable_str=\"x=$(cat x.txt); y=$(cat y.txt); echo $(($x + $y)) > result.txt\",\n",
    "    write_input_funct=write_input,\n",
    "    collect_output_funct=collect_output,\n",
    "    input_dict={\"x\": 1, \"y\": 2},\n",
    "    conda_environment_path=None,\n",
    "    conda_environment_name=None,\n",
    "    input_file_lst=None,\n",
    "    delayed=True,\n",
    "    output_file_lst=[\"result.txt\"],\n",
    "    output_key_lst=[\"result\"],\n",
    ")"
   ]
  },
  {
   "cell_type": "code",
   "execution_count": 10,
   "id": "610bb8c0-7864-4649-b0df-cda103f885dd",
   "metadata": {},
   "outputs": [],
   "source": [
    "w = pr.wrap_executable(\n",
    "    job_name=\"job_xyz\",\n",
    "    executable_str=\"x=$(cat x.txt); y=$(cat y.txt); z=$(cat result.txt); echo $(($x + $y + $z)) > result.txt\",\n",
    "    write_input_funct=write_input,\n",
    "    collect_output_funct=collect_output,\n",
    "    input_dict={\"x\": 1, \"y\": z.output.result},\n",
    "    conda_environment_path=None,\n",
    "    conda_environment_name=None,\n",
    "    input_file_lst=[z.files.result_txt],\n",
    "    delayed=True,\n",
    "    output_file_lst=[\"result.txt\"],\n",
    "    output_key_lst=[\"result\"],\n",
    ")"
   ]
  },
  {
   "cell_type": "code",
   "execution_count": 11,
   "id": "36c072d6-88af-4a2b-8ed7-4425d4ad78d3",
   "metadata": {},
   "outputs": [
    {
     "name": "stdout",
     "output_type": "stream",
     "text": [
      "initialized\n",
      "The job job_xy was saved and received the ID: 67\n",
      "initialized\n",
      "The job job_xyz was saved and received the ID: 68\n"
     ]
    },
    {
     "data": {
      "text/plain": [
       "7"
      ]
     },
     "execution_count": 11,
     "metadata": {},
     "output_type": "execute_result"
    }
   ],
   "source": [
    "w.output.result.result()"
   ]
  },
  {
   "cell_type": "code",
   "execution_count": null,
   "id": "2f324e04-1f0f-42dd-8941-aa833d71c318",
   "metadata": {},
   "outputs": [],
   "source": []
  },
  {
   "cell_type": "code",
   "execution_count": null,
   "id": "db131531-81f0-4b3a-af5e-28e2a1c14f7e",
   "metadata": {},
   "outputs": [],
   "source": []
  },
  {
   "cell_type": "code",
   "execution_count": null,
   "id": "31cfaa2e-88fd-4570-850a-f7c91bc4d41e",
   "metadata": {},
   "outputs": [],
   "source": []
  }
 ],
 "metadata": {
  "kernelspec": {
   "display_name": "Python 3 (ipykernel)",
   "language": "python",
   "name": "python3"
  },
  "language_info": {
   "codemirror_mode": {
    "name": "ipython",
    "version": 3
   },
   "file_extension": ".py",
   "mimetype": "text/x-python",
   "name": "python",
   "nbconvert_exporter": "python",
   "pygments_lexer": "ipython3",
   "version": "3.11.8"
  }
 },
 "nbformat": 4,
 "nbformat_minor": 5
}
